{
 "cells": [
  {
   "cell_type": "markdown",
   "id": "ab1dc4ef-36ae-4893-8fb4-474440fabc8a",
   "metadata": {},
   "source": [
    "# Introduction to `jupyterlite-pyodide-kernel`\n",
    "\n",
    "`jupyterlite-pyodide-kernel` extends [JupyterLite](https://jupyterlite.rtfd.io) with a Python 3 kernel, powered by [Pyodide](https://pyodide.org/)."
   ]
  },
  {
   "cell_type": "markdown",
   "id": "a6372e17-bf46-48c5-90a3-bdd6236e376e",
   "metadata": {},
   "source": [
    "## Visualizing data in a Notebook ✨\n",
    "\n",
    "Below is an example of a code cell. We'll visualize some simple data using two popular\n",
    "packages in Python. We'll use [NumPy](https://numpy.org/) to create some random data,\n",
    "and [Matplotlib](https://matplotlib.org) to visualize it.\n",
    "\n",
    "Note how the code and the results of running the code are bundled together."
   ]
  },
  {
   "cell_type": "code",
   "execution_count": null,
   "id": "fe55883a-6887-43dd-9498-5333a51799e2",
   "metadata": {},
   "outputs": [],
   "source": [
    "from matplotlib import pyplot as plt\n",
    "import numpy as np\n",
    "\n",
    "# Generate 100 random data points along 3 dimensions\n",
    "x, y, scale = np.random.randn(3, 100)\n",
    "fig, ax = plt.subplots()\n",
    "\n",
    "# Map each onto a scatterplot we'll create with Matplotlib\n",
    "ax.scatter(x=x, y=y, c=scale, s=np.abs(scale) * 500)\n",
    "ax.set(title=\"Some random data, created with JupyterLab!\")\n",
    "plt.show()"
   ]
  },
  {
   "cell_type": "markdown",
   "id": "61bd8fda-3e36-4910-b319-668e8843f322",
   "metadata": {},
   "source": [
    "## Interact with Widgets 🎛️\n",
    "\n",
    "[Jupyter Widgets](https://jupyter.org/widgets) power rich interactivity between users of Jupyter clients and Jupyter kernels. With `jupyterlab_widgets` installed, all of the [core widgets](https://ipywidgets.readthedocs.io/en/latest/examples/Widget%20List.html) will work in `jupyterlite-pyodide-kernel`, as do many third-party packages."
   ]
  },
  {
   "cell_type": "code",
   "execution_count": null,
   "id": "b034c439-aea0-4880-9118-75f7a2b1092a",
   "metadata": {},
   "outputs": [],
   "source": [
    "%pip install ipywidgets\n",
    "from ipywidgets import *\n",
    "\n",
    "slider = FloatSlider(description=\"$x$\")\n",
    "readout = FloatText(description=\"$x$\")\n",
    "jslink((slider, \"value\"), (readout, \"value\"))\n",
    "HBox([slider, readout])"
   ]
  }
 ],
 "metadata": {
  "kernelspec": {
   "display_name": "Python 3 (ipykernel)",
   "language": "python",
   "name": "python3"
  },
  "language_info": {
   "codemirror_mode": {
    "name": "ipython",
    "version": 3
   },
   "file_extension": ".py",
   "mimetype": "text/x-python",
   "name": "python",
   "nbconvert_exporter": "python",
   "pygments_lexer": "ipython3",
   "version": "3.11.7"
  }
 },
 "nbformat": 4,
 "nbformat_minor": 5
}
